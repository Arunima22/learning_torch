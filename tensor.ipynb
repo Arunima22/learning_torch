{
 "cells": [
  {
   "cell_type": "code",
   "execution_count": 1,
   "metadata": {},
   "outputs": [
    {
     "name": "stderr",
     "output_type": "stream",
     "text": [
      "\n",
      "A module that was compiled using NumPy 1.x cannot be run in\n",
      "NumPy 2.1.1 as it may crash. To support both 1.x and 2.x\n",
      "versions of NumPy, modules must be compiled with NumPy 2.0.\n",
      "Some module may need to rebuild instead e.g. with 'pybind11>=2.12'.\n",
      "\n",
      "If you are a user of the module, the easiest solution will be to\n",
      "downgrade to 'numpy<2' or try to upgrade the affected module.\n",
      "We expect that some modules will need time to support NumPy 2.\n",
      "\n",
      "Traceback (most recent call last):  File \"<frozen runpy>\", line 198, in _run_module_as_main\n",
      "  File \"<frozen runpy>\", line 88, in _run_code\n",
      "  File \"/usr/local/anaconda3/envs/torch_env/lib/python3.12/site-packages/ipykernel_launcher.py\", line 18, in <module>\n",
      "    app.launch_new_instance()\n",
      "  File \"/usr/local/anaconda3/envs/torch_env/lib/python3.12/site-packages/traitlets/config/application.py\", line 1075, in launch_instance\n",
      "    app.start()\n",
      "  File \"/usr/local/anaconda3/envs/torch_env/lib/python3.12/site-packages/ipykernel/kernelapp.py\", line 739, in start\n",
      "    self.io_loop.start()\n",
      "  File \"/usr/local/anaconda3/envs/torch_env/lib/python3.12/site-packages/tornado/platform/asyncio.py\", line 205, in start\n",
      "    self.asyncio_loop.run_forever()\n",
      "  File \"/usr/local/anaconda3/envs/torch_env/lib/python3.12/asyncio/base_events.py\", line 641, in run_forever\n",
      "    self._run_once()\n",
      "  File \"/usr/local/anaconda3/envs/torch_env/lib/python3.12/asyncio/base_events.py\", line 1986, in _run_once\n",
      "    handle._run()\n",
      "  File \"/usr/local/anaconda3/envs/torch_env/lib/python3.12/asyncio/events.py\", line 88, in _run\n",
      "    self._context.run(self._callback, *self._args)\n",
      "  File \"/usr/local/anaconda3/envs/torch_env/lib/python3.12/site-packages/ipykernel/kernelbase.py\", line 545, in dispatch_queue\n",
      "    await self.process_one()\n",
      "  File \"/usr/local/anaconda3/envs/torch_env/lib/python3.12/site-packages/ipykernel/kernelbase.py\", line 534, in process_one\n",
      "    await dispatch(*args)\n",
      "  File \"/usr/local/anaconda3/envs/torch_env/lib/python3.12/site-packages/ipykernel/kernelbase.py\", line 437, in dispatch_shell\n",
      "    await result\n",
      "  File \"/usr/local/anaconda3/envs/torch_env/lib/python3.12/site-packages/ipykernel/ipkernel.py\", line 362, in execute_request\n",
      "    await super().execute_request(stream, ident, parent)\n",
      "  File \"/usr/local/anaconda3/envs/torch_env/lib/python3.12/site-packages/ipykernel/kernelbase.py\", line 778, in execute_request\n",
      "    reply_content = await reply_content\n",
      "  File \"/usr/local/anaconda3/envs/torch_env/lib/python3.12/site-packages/ipykernel/ipkernel.py\", line 449, in do_execute\n",
      "    res = shell.run_cell(\n",
      "  File \"/usr/local/anaconda3/envs/torch_env/lib/python3.12/site-packages/ipykernel/zmqshell.py\", line 549, in run_cell\n",
      "    return super().run_cell(*args, **kwargs)\n",
      "  File \"/usr/local/anaconda3/envs/torch_env/lib/python3.12/site-packages/IPython/core/interactiveshell.py\", line 3075, in run_cell\n",
      "    result = self._run_cell(\n",
      "  File \"/usr/local/anaconda3/envs/torch_env/lib/python3.12/site-packages/IPython/core/interactiveshell.py\", line 3130, in _run_cell\n",
      "    result = runner(coro)\n",
      "  File \"/usr/local/anaconda3/envs/torch_env/lib/python3.12/site-packages/IPython/core/async_helpers.py\", line 128, in _pseudo_sync_runner\n",
      "    coro.send(None)\n",
      "  File \"/usr/local/anaconda3/envs/torch_env/lib/python3.12/site-packages/IPython/core/interactiveshell.py\", line 3334, in run_cell_async\n",
      "    has_raised = await self.run_ast_nodes(code_ast.body, cell_name,\n",
      "  File \"/usr/local/anaconda3/envs/torch_env/lib/python3.12/site-packages/IPython/core/interactiveshell.py\", line 3517, in run_ast_nodes\n",
      "    if await self.run_code(code, result, async_=asy):\n",
      "  File \"/usr/local/anaconda3/envs/torch_env/lib/python3.12/site-packages/IPython/core/interactiveshell.py\", line 3577, in run_code\n",
      "    exec(code_obj, self.user_global_ns, self.user_ns)\n",
      "  File \"/var/folders/dq/8l9ltn0s09lfwj4_7zf1b3s80000gn/T/ipykernel_7769/4265195184.py\", line 1, in <module>\n",
      "    import torch\n",
      "  File \"/usr/local/anaconda3/envs/torch_env/lib/python3.12/site-packages/torch/__init__.py\", line 1477, in <module>\n",
      "    from .functional import *  # noqa: F403\n",
      "  File \"/usr/local/anaconda3/envs/torch_env/lib/python3.12/site-packages/torch/functional.py\", line 9, in <module>\n",
      "    import torch.nn.functional as F\n",
      "  File \"/usr/local/anaconda3/envs/torch_env/lib/python3.12/site-packages/torch/nn/__init__.py\", line 1, in <module>\n",
      "    from .modules import *  # noqa: F403\n",
      "  File \"/usr/local/anaconda3/envs/torch_env/lib/python3.12/site-packages/torch/nn/modules/__init__.py\", line 35, in <module>\n",
      "    from .transformer import TransformerEncoder, TransformerDecoder, \\\n",
      "  File \"/usr/local/anaconda3/envs/torch_env/lib/python3.12/site-packages/torch/nn/modules/transformer.py\", line 20, in <module>\n",
      "    device: torch.device = torch.device(torch._C._get_default_device()),  # torch.device('cpu'),\n",
      "/usr/local/anaconda3/envs/torch_env/lib/python3.12/site-packages/torch/nn/modules/transformer.py:20: UserWarning: Failed to initialize NumPy: _ARRAY_API not found (Triggered internally at /Users/runner/work/pytorch/pytorch/pytorch/torch/csrc/utils/tensor_numpy.cpp:84.)\n",
      "  device: torch.device = torch.device(torch._C._get_default_device()),  # torch.device('cpu'),\n"
     ]
    }
   ],
   "source": [
    "import torch"
   ]
  },
  {
   "cell_type": "code",
   "execution_count": 2,
   "metadata": {},
   "outputs": [
    {
     "name": "stdout",
     "output_type": "stream",
     "text": [
      "0\n",
      "torch.Size([])\n"
     ]
    }
   ],
   "source": [
    "scaler = torch.tensor(1)\n",
    "scaler\n",
    "print(scaler.ndim)\n",
    "print(scaler.shape)"
   ]
  },
  {
   "cell_type": "code",
   "execution_count": 3,
   "metadata": {},
   "outputs": [
    {
     "name": "stdout",
     "output_type": "stream",
     "text": [
      "1\n",
      "torch.Size([3])\n"
     ]
    }
   ],
   "source": [
    "vec = torch.tensor([1,2,3])\n",
    "vec\n",
    "print(vec.ndim)\n",
    "print(vec.shape)\n"
   ]
  },
  {
   "cell_type": "code",
   "execution_count": 4,
   "metadata": {},
   "outputs": [
    {
     "name": "stdout",
     "output_type": "stream",
     "text": [
      "2\n",
      "torch.Size([3, 3])\n"
     ]
    }
   ],
   "source": [
    "MAT = torch.tensor([[1,2,3],\n",
    "                    [4,5,6],\n",
    "                    [7,8,9]])\n",
    "MAT\n",
    "print(MAT.ndim)\n",
    "print(MAT.shape)\n"
   ]
  },
  {
   "cell_type": "code",
   "execution_count": 5,
   "metadata": {},
   "outputs": [
    {
     "name": "stdout",
     "output_type": "stream",
     "text": [
      "3\n",
      "torch.Size([2, 4, 3])\n"
     ]
    }
   ],
   "source": [
    "TEM = torch.tensor([[[1,2,3], [4,5,6], [7,8,9], [2,3,5]], \n",
    "                    [[2,3,4], [5,6,7], [7,8,9], [4, 1, 9]]])\n",
    "print(TEM.ndim)\n",
    "print(TEM.shape)\n"
   ]
  },
  {
   "cell_type": "code",
   "execution_count": 6,
   "metadata": {},
   "outputs": [
    {
     "data": {
      "text/plain": [
       "tensor([[[63, 93],\n",
       "         [ 1, 92]],\n",
       "\n",
       "        [[39, 56],\n",
       "         [ 5, 72]]], dtype=torch.int32)"
      ]
     },
     "execution_count": 6,
     "metadata": {},
     "output_type": "execute_result"
    }
   ],
   "source": [
    "RAND = torch.randint(low = 0, high = 100, size=(2,2,2), dtype=torch.int32)\n",
    "RAND\n",
    "\n"
   ]
  },
  {
   "cell_type": "code",
   "execution_count": 7,
   "metadata": {},
   "outputs": [
    {
     "data": {
      "text/plain": [
       "tensor([[[0., 0., 0.],\n",
       "         [0., 0., 0.]],\n",
       "\n",
       "        [[0., 0., 0.],\n",
       "         [0., 0., 0.]],\n",
       "\n",
       "        [[0., 0., 0.],\n",
       "         [0., 0., 0.]],\n",
       "\n",
       "        [[0., 0., 0.],\n",
       "         [0., 0., 0.]]])"
      ]
     },
     "execution_count": 7,
     "metadata": {},
     "output_type": "execute_result"
    }
   ],
   "source": [
    "ZEROES = torch.zeros(size=(4, 2, 3))\n",
    "ZEROES"
   ]
  },
  {
   "cell_type": "code",
   "execution_count": 8,
   "metadata": {},
   "outputs": [
    {
     "data": {
      "text/plain": [
       "tensor([ 1, 22, 43, 64, 85])"
      ]
     },
     "execution_count": 8,
     "metadata": {},
     "output_type": "execute_result"
    }
   ],
   "source": [
    "ARR = torch.arange(start=1, end=100, step=21)\n",
    "ARR"
   ]
  },
  {
   "cell_type": "code",
   "execution_count": 9,
   "metadata": {},
   "outputs": [
    {
     "data": {
      "text/plain": [
       "tensor([0, 0, 0, 0, 0])"
      ]
     },
     "execution_count": 9,
     "metadata": {},
     "output_type": "execute_result"
    }
   ],
   "source": [
    "NEW = torch.zeros_like(ARR)\n",
    "NEW"
   ]
  },
  {
   "cell_type": "code",
   "execution_count": 10,
   "metadata": {},
   "outputs": [
    {
     "data": {
      "text/plain": [
       "tensor([[[73.,  8.],\n",
       "         [26., 95.],\n",
       "         [ 3., 43.]],\n",
       "\n",
       "        [[57.,  6.],\n",
       "         [12., 44.],\n",
       "         [45., 14.]],\n",
       "\n",
       "        [[78., 16.],\n",
       "         [93., 62.],\n",
       "         [72.,  0.]],\n",
       "\n",
       "        [[22., 38.],\n",
       "         [81., 38.],\n",
       "         [72., 32.]]])"
      ]
     },
     "execution_count": 10,
     "metadata": {},
     "output_type": "execute_result"
    }
   ],
   "source": [
    "#params\n",
    "\n",
    "NEW2 = torch.randint(low=0, high=100, size=(4,3,2), dtype=torch.float32, device=None, requires_grad=False)\n",
    "NEW2"
   ]
  },
  {
   "cell_type": "code",
   "execution_count": 11,
   "metadata": {},
   "outputs": [
    {
     "data": {
      "text/plain": [
       "tensor([[[73.,  8.],\n",
       "         [26., 95.],\n",
       "         [ 3., 43.]],\n",
       "\n",
       "        [[57.,  6.],\n",
       "         [12., 44.],\n",
       "         [45., 14.]],\n",
       "\n",
       "        [[78., 16.],\n",
       "         [93., 62.],\n",
       "         [72.,  0.]],\n",
       "\n",
       "        [[22., 38.],\n",
       "         [81., 38.],\n",
       "         [72., 32.]]], dtype=torch.float16)"
      ]
     },
     "execution_count": 11,
     "metadata": {},
     "output_type": "execute_result"
    }
   ],
   "source": [
    "#float32 to float16\n",
    "NEW3 = NEW2.type(torch.half)\n",
    "NEW3"
   ]
  },
  {
   "cell_type": "code",
   "execution_count": 12,
   "metadata": {},
   "outputs": [
    {
     "name": "stdout",
     "output_type": "stream",
     "text": [
      "torch.Size([4, 3, 2])\n",
      "3\n",
      "torch.float16\n",
      "cpu\n"
     ]
    }
   ],
   "source": [
    "print(NEW3.shape)\n",
    "print(NEW3.ndim)\n",
    "print(NEW3.dtype)\n",
    "print(NEW3.device)\n",
    "\n"
   ]
  },
  {
   "cell_type": "code",
   "execution_count": 13,
   "metadata": {},
   "outputs": [
    {
     "name": "stdout",
     "output_type": "stream",
     "text": [
      "tensor([1, 3, 4])\n",
      "tensor([11, 13, 14])\n",
      "tensor([10, 30, 40])\n",
      "tensor([31, 33, 34])\n"
     ]
    }
   ],
   "source": [
    "NEW3 = torch.tensor([1,3,4])\n",
    "print(NEW3)\n",
    "print(NEW3 + 10)\n",
    "print(NEW3 * 10)\n",
    "print(NEW3 + 5 * 6)"
   ]
  },
  {
   "cell_type": "code",
   "execution_count": 14,
   "metadata": {},
   "outputs": [
    {
     "name": "stdout",
     "output_type": "stream",
     "text": [
      "tensor([2, 5, 6])\n"
     ]
    }
   ],
   "source": [
    "NEW4 = torch.tensor([2,5,6])\n",
    "print(torch.transpose(NEW4, -1, 0))\n"
   ]
  },
  {
   "cell_type": "code",
   "execution_count": 15,
   "metadata": {},
   "outputs": [
    {
     "name": "stdout",
     "output_type": "stream",
     "text": [
      "tensor([[1, 2, 3],\n",
      "        [4, 5, 6]])\n",
      "tensor([[1, 4],\n",
      "        [2, 5],\n",
      "        [3, 6]])\n",
      "tensor([[1, 4],\n",
      "        [2, 5],\n",
      "        [3, 6]])\n"
     ]
    }
   ],
   "source": [
    "NEW5 = torch.tensor([[1,2,3], [4,5,6]])\n",
    "print(NEW5)\n",
    "print(torch.transpose(NEW5, -1, 0))\n",
    "print(torch.transpose(NEW5, 0, -1))"
   ]
  },
  {
   "cell_type": "code",
   "execution_count": 16,
   "metadata": {},
   "outputs": [
    {
     "name": "stdout",
     "output_type": "stream",
     "text": [
      "tensor([[ 50, 122],\n",
      "        [ 73, 184]])\n"
     ]
    }
   ],
   "source": [
    "NEW6 = torch.tensor([[7,8,9], [2,34,1]])\n",
    "ans = torch.mm(NEW6, NEW5.T)\n",
    "print(ans)"
   ]
  },
  {
   "cell_type": "code",
   "execution_count": 17,
   "metadata": {},
   "outputs": [
    {
     "name": "stdout",
     "output_type": "stream",
     "text": [
      "tensor(0)\n",
      "tensor(90)\n",
      "tensor(45.)\n",
      "tensor(45)\n",
      "torch.return_types.mode(\n",
      "values=tensor(0),\n",
      "indices=tensor(0))\n",
      "tensor(0)\n",
      "tensor(6)\n",
      "tensor([ 0, 15, 30, 45, 60, 75, 90])\n"
     ]
    }
   ],
   "source": [
    "l = torch.arange(start=0, end=100, step=15)\n",
    "print(l.min())\n",
    "print(l.max())\n",
    "print(l.type(torch.float32).mean())\n",
    "print(l.median())\n",
    "print(l.mode())\n",
    "print(l.argmin())\n",
    "print(l.argmax())\n",
    "print(l)"
   ]
  },
  {
   "cell_type": "code",
   "execution_count": 18,
   "metadata": {},
   "outputs": [
    {
     "name": "stdout",
     "output_type": "stream",
     "text": [
      "tensor([[[12, 16,  7, 13, 10],\n",
      "         [ 8,  9, 19, 12, 11],\n",
      "         [ 3,  7,  2,  9, 14]],\n",
      "\n",
      "        [[ 8, 16,  6,  2, 17],\n",
      "         [ 7,  9, 12,  7, 10],\n",
      "         [ 5,  2,  3, 13,  7]]])\n",
      "tensor([[[12, 16,  7],\n",
      "         [13, 10,  8]],\n",
      "\n",
      "        [[ 9, 19, 12],\n",
      "         [11,  3,  7]],\n",
      "\n",
      "        [[ 2,  9, 14],\n",
      "         [ 8, 16,  6]],\n",
      "\n",
      "        [[ 2, 17,  7],\n",
      "         [ 9, 12,  7]],\n",
      "\n",
      "        [[10,  5,  2],\n",
      "         [ 3, 13,  7]]])\n"
     ]
    }
   ],
   "source": [
    "reshape_t = torch.randint(low=2, high=20, size=(2,3,5))\n",
    "print(reshape_t)\n",
    "print(torch.reshape(input=reshape_t, shape=(5,2,3)))\n",
    "new_reshape = torch.reshape(input=reshape_t, shape=(5,2,3))"
   ]
  },
  {
   "cell_type": "code",
   "execution_count": 19,
   "metadata": {},
   "outputs": [
    {
     "name": "stdout",
     "output_type": "stream",
     "text": [
      "3\n",
      "3\n"
     ]
    }
   ],
   "source": [
    "print(reshape_t.ndim)\n",
    "print(new_reshape.ndim)"
   ]
  },
  {
   "cell_type": "code",
   "execution_count": 20,
   "metadata": {},
   "outputs": [
    {
     "data": {
      "text/plain": [
       "tensor([[[12, 16,  7, 13, 10,  8],\n",
       "         [ 9, 19, 12, 11,  3,  7],\n",
       "         [ 2,  9, 14,  8, 16,  6],\n",
       "         [ 2, 17,  7,  9, 12,  7],\n",
       "         [10,  5,  2,  3, 13,  7]]])"
      ]
     },
     "execution_count": 20,
     "metadata": {},
     "output_type": "execute_result"
    }
   ],
   "source": [
    "new_reshape.view(1,5,6)"
   ]
  },
  {
   "cell_type": "code",
   "execution_count": 21,
   "metadata": {},
   "outputs": [
    {
     "name": "stdout",
     "output_type": "stream",
     "text": [
      "tensor([[[19],\n",
      "         [18]]])\n",
      "tensor([[[9],\n",
      "         [0]]])\n",
      "tensor([[[0],\n",
      "         [2]]])\n",
      "tensor([[[[19],\n",
      "          [18]]],\n",
      "\n",
      "\n",
      "        [[[ 9],\n",
      "          [ 0]]],\n",
      "\n",
      "\n",
      "        [[[ 0],\n",
      "          [ 2]]]])\n",
      "tensor([[[[19],\n",
      "          [18]],\n",
      "\n",
      "         [[ 9],\n",
      "          [ 0]],\n",
      "\n",
      "         [[ 0],\n",
      "          [ 2]]]])\n",
      "tensor([[[[19],\n",
      "          [ 9],\n",
      "          [ 0]],\n",
      "\n",
      "         [[18],\n",
      "          [ 0],\n",
      "          [ 2]]]])\n",
      "tensor([[[[19,  9,  0]],\n",
      "\n",
      "         [[18,  0,  2]]]])\n"
     ]
    }
   ],
   "source": [
    "one = torch.randint(low=0, high=20, size=(1,2,1))\n",
    "two = torch.randint(low=0, high=20, size=(1,2,1))\n",
    "three = torch.randint(low=0, high=4, size=(1,2,1))\n",
    "stack0 = torch.stack((one, two, three) , dim=0)\n",
    "stack1 = torch.stack((one, two, three), dim=1)\n",
    "stack2 = torch.stack((one, two, three), dim=2)\n",
    "stack3 = torch.stack((one, two, three), dim=3)\n",
    "print(one)\n",
    "print(two)\n",
    "print(three)\n",
    "print(stack0)\n",
    "print(stack1)\n",
    "print(stack2)\n",
    "print(stack3)"
   ]
  },
  {
   "cell_type": "code",
   "execution_count": 22,
   "metadata": {},
   "outputs": [
    {
     "name": "stdout",
     "output_type": "stream",
     "text": [
      "tensor([[[19],\n",
      "         [18]]])\n"
     ]
    },
    {
     "data": {
      "text/plain": [
       "tensor([19, 18])"
      ]
     },
     "execution_count": 22,
     "metadata": {},
     "output_type": "execute_result"
    }
   ],
   "source": [
    "print(one)\n",
    "torch.squeeze(one)"
   ]
  },
  {
   "cell_type": "code",
   "execution_count": 23,
   "metadata": {},
   "outputs": [
    {
     "data": {
      "text/plain": [
       "tensor([[[[19]],\n",
       "\n",
       "         [[18]]]])"
      ]
     },
     "execution_count": 23,
     "metadata": {},
     "output_type": "execute_result"
    }
   ],
   "source": [
    "torch.unsqueeze(one, dim=2)"
   ]
  },
  {
   "cell_type": "code",
   "execution_count": 24,
   "metadata": {},
   "outputs": [
    {
     "name": "stdout",
     "output_type": "stream",
     "text": [
      "tensor([[[2, 1, 5, 4],\n",
      "         [2, 5, 7, 1],\n",
      "         [6, 3, 5, 4]],\n",
      "\n",
      "        [[7, 5, 1, 6],\n",
      "         [5, 6, 6, 6],\n",
      "         [3, 8, 6, 2]]])\n",
      "torch.Size([2, 3, 4])\n",
      "torch.Size([4, 2, 3])\n"
     ]
    }
   ],
   "source": [
    "five = torch.randint(high=9, low=1, size=(2,3,4))\n",
    "print(five)\n",
    "print(five.shape)\n",
    "print(torch.permute(five, dims=(2,0,1)).shape)"
   ]
  },
  {
   "cell_type": "code",
   "execution_count": 25,
   "metadata": {},
   "outputs": [
    {
     "name": "stdout",
     "output_type": "stream",
     "text": [
      "tensor([[2, 1, 5, 4],\n",
      "        [2, 5, 7, 1],\n",
      "        [6, 3, 5, 4]])\n",
      "tensor([2, 1, 5, 4])\n",
      "tensor(2)\n",
      "tensor([2, 1])\n"
     ]
    }
   ],
   "source": [
    "print(five[0])\n",
    "print(five[0][0])\n",
    "print(five[0][0][0])\n",
    "print(five[0][0][0:2])"
   ]
  },
  {
   "cell_type": "code",
   "execution_count": 26,
   "metadata": {},
   "outputs": [
    {
     "data": {
      "text/plain": [
       "<torch._C.Generator at 0x112a5ba30>"
      ]
     },
     "execution_count": 26,
     "metadata": {},
     "output_type": "execute_result"
    }
   ],
   "source": [
    "import numpy as np\n",
    "RANDOM_SEED=42 # try changing this to different values and see what happens to the numbers below\n",
    "torch.manual_seed(seed=RANDOM_SEED) "
   ]
  },
  {
   "cell_type": "code",
   "execution_count": 27,
   "metadata": {},
   "outputs": [],
   "source": [
    "np_array = np.random.rand(2,2,3)"
   ]
  },
  {
   "cell_type": "code",
   "execution_count": 30,
   "metadata": {},
   "outputs": [
    {
     "name": "stdout",
     "output_type": "stream",
     "text": [
      "tensor([[[0.8263, 0.6316, 0.0554],\n",
      "         [0.9567, 0.7622, 0.6471]],\n",
      "\n",
      "        [[0.0500, 0.0271, 0.3843],\n",
      "         [0.9859, 0.6403, 0.6439]]])\n"
     ]
    }
   ],
   "source": [
    "ten = torch.tensor(np_array)\n",
    "print(ten)"
   ]
  }
 ],
 "metadata": {
  "kernelspec": {
   "display_name": "base",
   "language": "python",
   "name": "python3"
  },
  "language_info": {
   "codemirror_mode": {
    "name": "ipython",
    "version": 3
   },
   "file_extension": ".py",
   "mimetype": "text/x-python",
   "name": "python",
   "nbconvert_exporter": "python",
   "pygments_lexer": "ipython3",
   "version": "3.12.5"
  }
 },
 "nbformat": 4,
 "nbformat_minor": 2
}
